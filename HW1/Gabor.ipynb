{
 "cells": [
  {
   "cell_type": "markdown",
   "metadata": {},
   "source": [
    "If you find any bugs in this ipython notebook, please post a question on Piazza or contact Fengze Liu (fliu23@jhu.edu).\n",
    "If there's an error say \"something is undefined\", please run the cell that contains the definition or use \"menu -> cell -> run all above\"\n",
    "\n",
    "Please download this ipynb file as well as the data folder as posted in Piazza (See also in https://nbviewer.jupyter.org/github/ccvl/VisualCortexCourse/tree/master/HW1/data/).\n",
    "Original notebook by Weichao Qiu, modified by Donald Li, Chenxi Liu and Hongru Zhu."
   ]
  },
  {
   "cell_type": "markdown",
   "metadata": {},
   "source": [
    "# Initialization"
   ]
  },
  {
   "cell_type": "code",
   "execution_count": null,
   "metadata": {},
   "outputs": [],
   "source": [
    "# Import python library for this notebook\n",
    "import numpy as np # fundamental package for scientific computing\n",
    "import matplotlib.pyplot as plt # package for plot function\n",
    "\n",
    "# show figures inline\n",
    "%matplotlib inline \n",
    "\n",
    "def myimshow(I, **kwargs):\n",
    "    # utility function to show image\n",
    "    plt.figure();\n",
    "    plt.axis('off')\n",
    "    plt.imshow(I, cmap=plt.gray(), **kwargs)"
   ]
  },
  {
   "cell_type": "markdown",
   "metadata": {},
   "source": [
    "# Generate sinusoid stimuli\n",
    "\n",
    "Sinusoid $ I(\\mathbf{x}) = A \\cos(\\mathbf{\\omega} \\mathbf{x} + \\rho) $\n",
    "\n",
    "$ A $ is the amplitude, $ \\rho $ is the phase, and $ \\mathbf{\\omega} $ is the frequency."
   ]
  },
  {
   "cell_type": "code",
   "execution_count": null,
   "metadata": {},
   "outputs": [],
   "source": [
    "def genSinusoid(sz, A, omega, rho):\n",
    "    # Generate Sinusoid grating\n",
    "    # sz: size of generated image (width, height)\n",
    "    radius = (int(sz[0]/2.0), int(sz[1]/2.0))\n",
    "    [x, y] = np.meshgrid(range(-radius[0], radius[0]+1), range(-radius[1], radius[1]+1)) # a BUG is fixed in this line\n",
    "\n",
    "    stimuli = A * np.cos(omega[0] * x  + omega[1] * y + rho)\n",
    "    return stimuli\n",
    "\n",
    "theta = np.pi/4\n",
    "omega = [np.cos(theta), np.sin(theta)]\n",
    "sinusoidParam = {'A':1, 'omega':omega, 'rho':np.pi/2, 'sz':(32,32)}\n",
    "myimshow(genSinusoid(**sinusoidParam)) \n",
    "# ** is a special syntax in python, which enables passing a key-value dictionary as parameter"
   ]
  },
  {
   "cell_type": "markdown",
   "metadata": {},
   "source": [
    "# Generate gabor filter\n",
    "A general type of Gabor filter[1] can be defined:  \n",
    "$$ g(x,y;\\lambda,\\theta,\\psi,\\sigma,\\gamma) = \\exp\\left(-\\frac{x'^2+\\gamma^2y'^2}{2\\sigma^2}\\right)\\exp\\left(i\\left(2\\pi\\frac{x'}{\\lambda}+\\psi\\right)\\right) $$\n",
    "[1] https://en.wikipedia.org/wiki/Gabor_filter  "
   ]
  },
  {
   "cell_type": "markdown",
   "metadata": {},
   "source": [
    "Here we implement a type of Gabor filter which satisfies the neurophysiological constraints for simple cells:   \n",
    "$$ \\psi (x; \\omega, \\theta, K) = \\left[\\frac{\\omega^2}{ 4 \\pi K^2} \\exp  \\{-(\\omega^2/8K^2)[4(x\\cdot(cos\\theta, sin\\theta))^2 + (x \\cdot ( -sin \\theta, cos \\theta))^2]\\} \\right] \\times \\left[ \\exp \\{ iwx \\cdot (cos\\theta, sin\\theta) \\} exp(K^2/2) \\right] $$"
   ]
  },
  {
   "cell_type": "code",
   "execution_count": null,
   "metadata": {},
   "outputs": [],
   "source": [
    "def genGabor(sz, omega, theta, func=np.cos, K=np.pi):\n",
    "    radius = (int(sz[0]/2.0), int(sz[1]/2.0))\n",
    "    [x, y] = np.meshgrid(range(-radius[0], radius[0]+1), range(-radius[1], radius[1]+1))\n",
    "\n",
    "    x1 = x * np.cos(theta) + y * np.sin(theta)\n",
    "    y1 = -x * np.sin(theta) + y * np.cos(theta)\n",
    "    \n",
    "    gauss = omega**2 / (4*np.pi * K**2) * np.exp(- omega**2 / (8*K**2) * ( 4 * x1**2 + y1**2))\n",
    "#     myimshow(gauss)\n",
    "    sinusoid = func(omega * x1) * np.exp(K**2 / 2)\n",
    "#     myimshow(sinusoid)\n",
    "    gabor = gauss * sinusoid\n",
    "    return gabor\n",
    "        \n",
    "g = genGabor((256,256), 0.3, np.pi/4, func=np.cos) \n",
    "# change func to \"cos\", \"sin\" can generate sin gabor or cos gabor, here we pass a function name as a parameter\n",
    "myimshow(g)\n",
    "np.mean(g)"
   ]
  },
  {
   "cell_type": "markdown",
   "metadata": {},
   "source": [
    "# Interactive: Gabor demo\n",
    "If you evaluate the next cell in your computer, you can see an interactive demo like this.  \n",
    "<img src=\"data/gabor/snapshot.png\">\n",
    "\n",
    "**Drag the slider to change parameters, and see the change of gabor filter.**"
   ]
  },
  {
   "cell_type": "code",
   "execution_count": null,
   "metadata": {},
   "outputs": [],
   "source": [
    "from IPython.html.widgets import interact, interactive, fixed\n",
    "def demoGabor(theta, omega):\n",
    "    myimshow(genGabor((128,128), omega, theta))\n",
    "interact(demoGabor, theta=(0,np.pi,np.pi/4), omega=(0.1,1,0.1))"
   ]
  },
  {
   "cell_type": "markdown",
   "metadata": {},
   "source": [
    "# Generate gabor filter bank"
   ]
  },
  {
   "cell_type": "code",
   "execution_count": null,
   "metadata": {},
   "outputs": [],
   "source": [
    "theta = np.arange(0, np.pi, np.pi/4) # range of theta\n",
    "omega = np.arange(0.02, 0.42, 0.1) # range of omega\n",
    "params = [(t,o) for o in omega for t in theta]\n",
    "sinFilterBank = []\n",
    "cosFilterBank = []\n",
    "gaborParams = []\n",
    "for (theta, omega) in params:\n",
    "    gaborParam = {'omega':omega, 'theta':theta, 'sz':(128, 128)}\n",
    "    sinGabor = genGabor(func=np.sin, **gaborParam)\n",
    "    cosGabor = genGabor(func=np.cos, **gaborParam)\n",
    "    sinFilterBank.append(sinGabor)\n",
    "    cosFilterBank.append(cosGabor)\n",
    "    gaborParams.append(gaborParam)\n",
    "\n",
    "plt.figure()\n",
    "n = len(sinFilterBank)\n",
    "for i in range(n):\n",
    "    plt.subplot(4,4,i+1)\n",
    "    # title(r'$\\theta$={theta:.2f}$\\omega$={omega}'.format(**gaborParams[i]))\n",
    "    plt.axis('off'); plt.imshow(sinFilterBank[i])\n",
    "\n",
    "plt.figure()\n",
    "for i in range(n):\n",
    "    plt.subplot(4,4,i+1)\n",
    "    # title(r'$\\theta$={theta:.2f}$\\omega$={omega}'.format(**gaborParams[i]))\n",
    "    plt.axis('off'); plt.imshow(cosFilterBank[i])\n",
    "print(gaborParam)"
   ]
  },
  {
   "cell_type": "markdown",
   "metadata": {},
   "source": [
    "# Apply filter bank to zebra image"
   ]
  },
  {
   "cell_type": "markdown",
   "metadata": {},
   "source": [
    "# Homework 4.1\n",
    "Apply Gabor filters to the zebra image. Adjust the frequency and orientation of the Gabors to find the horizontal and vertical stripes. Plot the output. (3 points) Can you also find Gabors that respond to the legs? (3 points)"
   ]
  },
  {
   "cell_type": "code",
   "execution_count": null,
   "metadata": {},
   "outputs": [],
   "source": [
    "from skimage.color import rgb2gray\n",
    "from scipy.signal import convolve2d\n",
    "zebra = rgb2gray(plt.imread('data/gabor/Zebra_running_Ngorongoro.jpg'))\n",
    "plt.figure(); myimshow(zebra)\n",
    "sinGabor = sinFilterBank[2] \n",
    "plt.figure(); myimshow(sinGabor)\n",
    "%time res = convolve2d(zebra, sinGabor, mode='valid') # Will take about one minute\n",
    "plt.figure(); myimshow(res); # title('response') Book figure"
   ]
  },
  {
   "cell_type": "markdown",
   "metadata": {},
   "source": [
    "\"Zebra running Ngorongoro\" by Muhammad Mahdi Karim (data/gabor/Zebra_running_Ngorongoro.jpg)"
   ]
  },
  {
   "cell_type": "markdown",
   "metadata": {},
   "source": [
    "For examples of filters applied to texture processing see: https://scikit-image.org/docs/dev/auto_examples/features_detection/plot_gabor.html"
   ]
  },
  {
   "cell_type": "markdown",
   "metadata": {},
   "source": [
    "# Quadrature pair, simple/complex cell"
   ]
  },
  {
   "cell_type": "markdown",
   "metadata": {},
   "source": [
    "# Homework4.2\n",
    "Run the following Example, explain the results of the simple and complex cells when applying them to the stimuli. (4 points) Does the results match with your expectation?"
   ]
  },
  {
   "cell_type": "code",
   "execution_count": null,
   "metadata": {},
   "outputs": [],
   "source": [
    "theta = np.pi\n",
    "sinGabor = genGabor((129,129), 0.4, theta, np.sin)\n",
    "cosGabor = genGabor((129,129), 0.4, theta, np.cos)\n",
    "plt.figure(); \n",
    "plt.subplot(121); plt.axis('off'); plt.imshow(sinGabor, vmin=-0.2, vmax=0.2)\n",
    "plt.subplot(122); plt.axis('off'); plt.imshow(cosGabor, vmin=-0.2, vmax=0.2)\n",
    "\n",
    "theta = np.pi/4\n",
    "sinusoid = genSinusoid((256,256), 1, (omega*np.sin(theta), omega*np.cos(theta)), 0)\n",
    "plt.figure(); myimshow(sinusoid); plt.title('Stimuli')\n",
    "\n",
    "response = convolve2d(sinusoid, sinGabor, mode='valid')\n",
    "response2 = convolve2d(sinusoid, cosGabor, mode='valid')\n",
    "\n",
    "plt.figure(); \n",
    "plt.subplot(121); plt.imshow(response, vmin=0); plt.title('Response of sin gabor(simple cell)')\n",
    "plt.subplot(122); plt.imshow(response**2 + response2**2, vmin=0); plt.title('Resp. of complex cell')"
   ]
  },
  {
   "cell_type": "markdown",
   "metadata": {},
   "source": [
    "# Homework 4.3: Find parameter of an unknown gabor filter\n",
    "Find the tuning curve of an idealized neuron by measuring its response to different sinusoids. (3 points) \n",
    "The neuron is a Gabor function so you need to find its preferred orientation and phase. Use equations from _Slide: [SimpleCellsVisualCortex](https://cs.jhu.edu/~ayuille/JHUcourses/ProbabilisticModelsOfVisualCognition2017/Lecture3SimpleCells/SimpleCellsVisualCortex.pdf) - The Tuning of Gabor Filters _ if you want."
   ]
  },
  {
   "cell_type": "code",
   "execution_count": null,
   "metadata": {},
   "outputs": [],
   "source": [
    "import pickle\n",
    "# The parameter of this gabor(cell) is unknown\n",
    "# Try to find its parameter:\n",
    "unknownGabor = pickle.load(open('data/gabor/unknownGabor.data', 'rb'), encoding='latin1')\n",
    "plt.figure(); myimshow(unknownGabor)\n",
    "\n",
    "# You can use sinusoid as a stimuli\n",
    "# For example:\n",
    "rho = 0\n",
    "omega = 0.3\n",
    "theta = np.pi/6\n",
    "sinusoid = genSinusoid(unknownGabor.shape, 1, (omega*np.cos(theta), omega*np.sin(theta)), rho)\n",
    "plt.figure(); myimshow(sinusoid)\n",
    "response = convolve2d(sinusoid, unknownGabor, mode='valid')\n",
    "print('Strength of response:', response)"
   ]
  },
  {
   "cell_type": "markdown",
   "metadata": {},
   "source": [
    "# Demo: Gaussian, Laplacian of Gaussian"
   ]
  },
  {
   "cell_type": "code",
   "execution_count": null,
   "metadata": {},
   "outputs": [],
   "source": [
    "# Utility function to plot 3D surface\n",
    "def surf(X, Y, Z, **kargs): \n",
    "    # Plot 3D data as surface, similar to surf(X,Y,Z) of http://www.mathworks.com/help/matlab/ref/surf.html\n",
    "    from mpl_toolkits.mplot3d import Axes3D\n",
    "    fig = plt.figure()\n",
    "    ax = fig.add_subplot(111, projection='3d')\n",
    "    ax.plot_surface(X, Y, Z, **kargs)\n",
    "    \n",
    "sigma = 20\n",
    "from mpl_toolkits.mplot3d import Axes3D\n",
    "\n",
    "[X, Y] = np.meshgrid(np.arange(-100, 101), np.arange(-100, 101))\n",
    "Z = 1/(np.sqrt(2.0 * np.pi) * sigma) * np.exp(-(X**2+Y**2)/(2.0*sigma**2))\n",
    "\n",
    "dx = np.roll(Z, 1, axis=1) - Z\n",
    "dx2 = np.roll(dx, 1, axis=1) - dx\n",
    "\n",
    "dy = np.roll(Z, 1, axis=0) - Z\n",
    "dy2 = np.roll(dy, 1, axis=0) - dy\n",
    "\n",
    "LoG = -(dx2+dy2)\n",
    "\n",
    "surf(X, Y, Z, alpha=0.3)\n",
    "# title('Gaussian')\n",
    "\n",
    "surf(X, Y, dx + dy, alpha=0.3)\n",
    "# title('First order derivative')\n",
    "\n",
    "surf(X, Y, LoG, alpha=0.3)\n",
    "# title('Second order derivative (Laplacian of Gaussian)')"
   ]
  },
  {
   "cell_type": "markdown",
   "metadata": {},
   "source": [
    "# Homework 4.4  Find the parameter of Laplacian of Gaussian\n",
    "\n",
    "Find the parameter $\\sigma$ of a Laplacian of Gaussian filter by measuring its response to different sinusoids. (3 points)  \n",
    "Use equation in _[LinearModelsSimpleCells](https://cs.jhu.edu/~ayuille/JHUcourses/ProbabilisticModelsOfVisualCognition2017/Lecture3SimpleCells/SimpleCellsRetina.pdf) - The Response of a Center-Surround Cell to sinusoids_ if you want."
   ]
  },
  {
   "cell_type": "code",
   "execution_count": null,
   "metadata": {
    "scrolled": true
   },
   "outputs": [],
   "source": [
    "import pickle\n",
    "\n",
    "unknownLoG = pickle.load(open('data/gabor/unknownLoG.data', 'rb'), encoding='latin1')\n",
    "plt.figure(); myimshow(unknownLoG)\n",
    "[X, Y] = np.meshgrid(np.arange(-100, 101), np.arange(-100, 101))\n",
    "surf(X, Y, unknownLoG, alpha=0.3)\n",
    "\n",
    "# You can use sinusoid as a stimuli\n",
    "# For example:\n",
    "rho = 0\n",
    "omega = 0.1\n",
    "theta = np.pi/3\n",
    "sinusoid = genSinusoid(unknownLoG.shape, 1, (omega*np.cos(theta), omega*np.sin(theta)), rho)\n",
    "plt.figure(); myimshow(sinusoid)\n",
    "response = convolve2d(sinusoid, unknownLoG, mode='valid')\n",
    "print('Strength of response:', response)"
   ]
  },
  {
   "cell_type": "code",
   "execution_count": null,
   "metadata": {},
   "outputs": [],
   "source": [
    "\n"
   ]
  }
 ],
 "metadata": {
  "anaconda-cloud": {},
  "kernelspec": {
   "display_name": "Python 3",
   "language": "python",
   "name": "python3"
  },
  "language_info": {
   "codemirror_mode": {
    "name": "ipython",
    "version": 3
   },
   "file_extension": ".py",
   "mimetype": "text/x-python",
   "name": "python",
   "nbconvert_exporter": "python",
   "pygments_lexer": "ipython3",
   "version": "3.7.4"
  }
 },
 "nbformat": 4,
 "nbformat_minor": 1
}
