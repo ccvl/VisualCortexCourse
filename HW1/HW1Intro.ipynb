{
 "cells": [
  {
   "cell_type": "markdown",
   "metadata": {},
   "source": [
    "# Homework 1 Introduction - Probabilistic Models of Visual Cortex and iPython Notebook Basics"
   ]
  },
  {
   "cell_type": "markdown",
   "metadata": {},
   "source": [
    "This homework contains code demo to illustrate concepts from the lectures. The code is written in python language. To run these demos, [IPython/Jupyter notebook](http://ipython.org/notebook.html) is required. The IPython Notebook is a web-based interactive computational environment where you can combine code execution, text, mathematics, plots and rich media into a single document. In this document, we provide instructions of getting started with this tool."
   ]
  },
  {
   "cell_type": "markdown",
   "metadata": {},
   "source": [
    "Click this link to begin the first homework -> [GaborDemos](./Gabor.ipynb)"
   ]
  },
  {
   "cell_type": "markdown",
   "metadata": {},
   "source": [
    "## What's IPython notebook (also called Jupyter notebook)?\n",
    "\n",
    "\"The IPython Notebook is a web-based interactive computational environment where you can combine code execution, text, mathematics, plots and rich media into a single document\" - [ipython.org](http://ipython.org/notebook.html)\n",
    "\n",
    "In IPython Notebook, you can use python code to perform various computations interactively."
   ]
  },
  {
   "cell_type": "markdown",
   "metadata": {},
   "source": [
    "# Installation"
   ]
  },
  {
   "cell_type": "markdown",
   "metadata": {},
   "source": [
    "Here's a very brief installation guide. If it's not detailed enough, check the instruction from the [official website](http://ipython.org/notebook.html), or google it.\n",
    "\n",
    "**Windows/Mac/Linux:**  \n",
    "The simplest way is to install Anaconda (a python distribution for scientific computation).  \n",
    "https://store.continuum.io/cshop/anaconda/\n",
    "This definitely works for Windows and OS X and ensures you have all of the correct versions of the required libraries.\n",
    "\n",
    "**Linux/Mac (advanced):**\n",
    "1. Install pip with package manager (for ubuntu, it's **apt-get install pip**).\n",
    "2. Use pip to install dependencies (notebook, numpy, scipy, etc.) (In later versions of OS X, you'll have to install these packages in a virtual environment, or else just use Anaconda!)\n",
    "\n",
    "**pip install notebook numpy scipy**\n",
    "\n",
    "**NOTE:** Installation of ipython notebook should not take you too much time. "
   ]
  },
  {
   "cell_type": "markdown",
   "metadata": {},
   "source": [
    "# Usage"
   ]
  },
  {
   "cell_type": "markdown",
   "metadata": {},
   "source": [
    "To run a notebook, navigate using your terminal/command line to the directory containing the .ipynb file and execute the command `ipython notebook`. Then select the notebook from the page that opens in your browser. To execute a cell containing python code, select that cell and press **Shift+Enter**.\n",
    "\n",
    "Here is the Hello World demo to show how the notebook works\n",
    "\n",
    "- Select the code cell below and press **Shift+Enter** to execute it."
   ]
  },
  {
   "cell_type": "code",
   "execution_count": null,
   "metadata": {},
   "outputs": [],
   "source": [
    "print(\"Hello World!\")"
   ]
  },
  {
   "cell_type": "markdown",
   "metadata": {},
   "source": [
    "If you have programming experience with a programming language like C, MATLAB, or R, then Python should be fairly easy to grasp.\n",
    "You can find a lot of tutorials on the web.\n",
    "\n",
    "Here is a video tutorial to show how to use python in IPython notebook. The videos 1-5 (skip 2) are enough for this course. It's suitable for beginner **without** python knowledge. \n",
    "\n",
    "[Video Link](https://www.youtube.com/watch?v=R6Sh58B3cOE&list=PLRJx8WOUx5Xd3_dgw5xRmABUd8MWdsA_C&index=2)\n"
   ]
  },
  {
   "cell_type": "markdown",
   "metadata": {},
   "source": [
    "# Updates"
   ]
  },
  {
   "cell_type": "markdown",
   "metadata": {
    "collapsed": true
   },
   "source": [
    "\n",
    "**Note:**\n",
    "\n",
    "Code is previously written and tested in python2. We have now modified the code to run in python3. If you are using python2 and got any compatible issue, please post it on Piazza.\n",
    "\n",
    "Original notebook by Weichao Qiu, modified by Donald Li, Chenxi Liu and Hongru Zhu."
   ]
  },
  {
   "cell_type": "code",
   "execution_count": null,
   "metadata": {
    "collapsed": true
   },
   "outputs": [],
   "source": []
  }
 ],
 "metadata": {
  "anaconda-cloud": {},
  "kernelspec": {
   "display_name": "Python 3",
   "language": "python",
   "name": "python3"
  },
  "language_info": {
   "codemirror_mode": {
    "name": "ipython",
    "version": 3
   },
   "file_extension": ".py",
   "mimetype": "text/x-python",
   "name": "python",
   "nbconvert_exporter": "python",
   "pygments_lexer": "ipython3",
   "version": "3.7.4"
  }
 },
 "nbformat": 4,
 "nbformat_minor": 1
}
