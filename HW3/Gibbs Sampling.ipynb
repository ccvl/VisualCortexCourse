{
 "cells": [
  {
   "cell_type": "markdown",
   "metadata": {},
   "source": [
    "\n",
    "\n",
    "\n",
    "# Gibbs sampling\n",
    "\n",
    "Originally by Weichao Qiu.\n",
    "\n",
    "If you find this ipython notebook is unclear or contains bugs, please post it on Piazza.\n",
    "If there's an error says \"something is undefined\", please run the cell that contains the definition or use \"menu -> cell -> run all above\""
   ]
  },
  {
   "cell_type": "markdown",
   "metadata": {},
   "source": [
    "# Foreground/background classification.\n",
    "\n",
    "Here we consider a model for foreground/background classification that can include spatial context. Intuitively, neighboring pixels in the image are likely to belong to the same class, i.e. are likely to be either all background or all foreground. This is a form of prior knowledge, or natural statistic, which can be learnt by analyzing natural images.\n",
    "\n",
    "For pixel $i$, the foreground label is $ S_i = 1 $, and background label is $ S_i = -1 $.\n",
    "\n",
    "The prior term in the energy encourages neighbouring pixels to have the same intensity ($N(i)$ is the set of pixels neighboring $i$):  \n",
    "$ E_p[S] = \\gamma \\sum_{i} \\sum_{j \\in N(i)} { - S_i S_j} $ \n",
    "\n",
    "The data term is defined as:\n",
    "\n",
    "$ E_d[S, I] = \\eta \\sum_{i} (I_i - S_i)^2 $\n",
    "\n",
    "\n",
    "These two terms are combined to get the energy.\n",
    "\n",
    "$ E[S] = E_p[S] + E_d[S, I] $\n",
    "\n",
    "Then the posterior of the labeling $S$ given the image $I$ (with temperature parameter $T$) is\n",
    "\n",
    "$ P(S|I) = \\frac{1}{Z} \\exp\\left( - \\frac{E[S]}{T} \\right) $"
   ]
  },
  {
   "cell_type": "markdown",
   "metadata": {},
   "source": [
    "The block of code below initializes the ipython notebook"
   ]
  },
  {
   "cell_type": "code",
   "execution_count": null,
   "metadata": {},
   "outputs": [],
   "source": [
    "# Initiialization code\n",
    "%matplotlib inline\n",
    "import numpy as np\n",
    "# from pylab import imshow, show, get_cmap, imread, figure, subplots, title, subplot\n",
    "import matplotlib.pyplot as plt\n",
    "from numpy import random\n",
    "import pylab as pl"
   ]
  },
  {
   "cell_type": "markdown",
   "metadata": {},
   "source": [
    "The block of code below loads an image and normalizes it to the  range $[-1, 1]$."
   ]
  },
  {
   "cell_type": "code",
   "execution_count": null,
   "metadata": {},
   "outputs": [],
   "source": [
    "im = plt.imread('data/gibbs/cat4.jpg')\n",
    "plt.imshow(im)\n",
    "\n",
    "def myimshow(state):\n",
    "    plt.imshow(state, interpolation='nearest')\n",
    "\n",
    "# Preprocess image to range (-1, 1)\n",
    "def preproc_data(im, scale=0.1, debug=False):\n",
    "    import skimage.color\n",
    "    import skimage.transform\n",
    "    \n",
    "    tinyim = skimage.transform.rescale(im, scale,multichannel=True)\n",
    "    grayim = skimage.color.rgb2gray(tinyim)\n",
    "\n",
    "    # Linear map the data to -1, 1\n",
    "    scale = grayim.max() - grayim.min()\n",
    "    data = 2 * (grayim - grayim.min()) / scale - 1\n",
    "    if debug:\n",
    "        print('original range:', grayim.min(), grayim.max())\n",
    "        print('remapped range:', data.min(), data.max())\n",
    "\n",
    "    return [data, tinyim]\n",
    "\n",
    "[data, im] = preproc_data(im, debug=True) # data is normalized image"
   ]
  },
  {
   "cell_type": "markdown",
   "metadata": {},
   "source": [
    "The block of code below defines the neighborhood structure for the Gibbs sampler."
   ]
  },
  {
   "cell_type": "code",
   "execution_count": null,
   "metadata": {},
   "outputs": [],
   "source": [
    "def getneighor(y, x, h, w): # get 4-side neighbor\n",
    "    n = []\n",
    "    if (x != 0): n.append((y, x-1))\n",
    "    if (x != w-1): n.append((y, x+1))\n",
    "    if (y != 0): n.append((y-1, x))\n",
    "    if (y != h-1): n.append((y+1, x))\n",
    "    return n\n",
    "\n",
    "def poslist(h,w):\n",
    "    '''Get point list of a grid'''\n",
    "    pos = []\n",
    "    for x in range(w):\n",
    "        for y in range(h):\n",
    "            pos.append((y, x))\n",
    "    return pos"
   ]
  },
  {
   "cell_type": "markdown",
   "metadata": {},
   "source": [
    "Define a utility function to compute energy."
   ]
  },
  {
   "cell_type": "code",
   "execution_count": null,
   "metadata": {},
   "outputs": [],
   "source": [
    "def energy_prior(state, gamma):\n",
    "    total = 0\n",
    "    (h, w) = state.shape\n",
    "    pos = poslist(h, w)\n",
    "    for p in pos:\n",
    "        neighbor = getneighor(p[0], p[1], h, w) # compute neighbor\n",
    "        \n",
    "        for n in neighbor:\n",
    "            total += state[p[0]][p[1]] * state[n[0]][n[1]]\n",
    "    E = - gamma * total\n",
    "    return E\n",
    "        \n",
    "def energy_data(state, data, eta):\n",
    "    E = eta * sum((data - state)**2)\n",
    "    return E\n",
    "\n",
    "def energy(state, data, gamma, eta):\n",
    "    return energy_prior(state, gamma) + energy_data(state, data, eta)"
   ]
  },
  {
   "cell_type": "markdown",
   "metadata": {},
   "source": [
    "Define the Gibbs sampler."
   ]
  },
  {
   "cell_type": "code",
   "execution_count": null,
   "metadata": {},
   "outputs": [],
   "source": [
    "def gibbs_sampler(state, data, gamma, eta, debug=False): # 0/1 state\n",
    "    (h, w) = state.shape\n",
    "    new_state = state.copy()\n",
    "    pos = poslist(h, w)\n",
    "    for p in pos:\n",
    "        neighbor_pos = getneighor(p[0], p[1], h, w)\n",
    "        neighbor_value = [new_state[n[0]][n[1]] for n in neighbor_pos]\n",
    "\n",
    "        tmp1 = -gamma * -1 * sum(neighbor_value) # x_i = -1\n",
    "        tmp2 = -gamma * 1 * sum(neighbor_value) # x_i = 1\n",
    "        \n",
    "        # add data term\n",
    "        v = data[p[0]][p[1]]\n",
    "        tmp1 += eta * (v - (-1))**2 # x_i = -1\n",
    "        tmp2 += eta * (v - 1)**2 #  x_i = 1\n",
    "        \n",
    "        tmp1 = np.exp(-tmp1)\n",
    "        tmp2 = np.exp(-tmp2)\n",
    "\n",
    "        p1 = tmp1 / (tmp1 + tmp2)\n",
    "        prob = random.uniform() # roll a dice\n",
    "        \n",
    "        if (debug): print(p1)\n",
    "        if (prob > p1):\n",
    "            new_state[p[0]][p[1]] = 1\n",
    "        else:\n",
    "            new_state[p[0]][p[1]] = -1\n",
    "    return new_state"
   ]
  },
  {
   "cell_type": "markdown",
   "metadata": {},
   "source": [
    "# Animation: sample with data term included\n",
    "Run this demo below; make sure to watch the animation as it happens!"
   ]
  },
  {
   "cell_type": "code",
   "execution_count": null,
   "metadata": {},
   "outputs": [],
   "source": [
    "from IPython.display import display, clear_output\n",
    "import time\n",
    "random_seed = 1 # Change this in your experiment\n",
    "random.seed(random_seed)\n",
    "\n",
    "(h, w) = data.shape\n",
    "mat = random.random((h,w))\n",
    "mat[mat>0.5] = 1\n",
    "mat[mat<=0.5] = -1\n",
    "random_state = mat\n",
    "\n",
    "\n",
    "# Initial the random state\n",
    "init_state = random_state\n",
    "\n",
    "# Set parameters\n",
    "gamma = 20\n",
    "eta = 1\n",
    "\n",
    "new_state = random_state.copy()\n",
    "E = [energy(init_state, data, gamma, eta)]# array of energies at each iteration\n",
    "\n",
    "\n",
    "f, ax = plt.subplots() # prepare animation\n",
    "for i in range(100):\n",
    "    clear_output(wait=True)\n",
    "    new_state = gibbs_sampler(new_state, data, gamma, eta)\n",
    "    E.append(energy(new_state, data, gamma, eta))\n",
    "    # time.sleep(1)\n",
    "    myimshow(new_state)\n",
    "    display(f)\n",
    "\n",
    "plt.title(\"Foreground\")\n",
    "mask = (new_state==1)\n",
    "fg = data.copy()\n",
    "x=range(30)\n",
    "\n",
    "plt.imshow(fg, cmap='gray', interpolation='nearest')\n",
    "plt.subplots()\n",
    "print(E)\n"
   ]
  },
  {
   "cell_type": "markdown",
   "metadata": {},
   "source": [
    "# Questions: Gibbs sampler\n",
    "Set random_seed to a different value (and tell me what it is in your homework!)\n",
    "1. Try a few different values of $ \\gamma $, $ \\eta $, including special case that only contains the prior term. What happens when the parameters change? (6 points)\n",
    "2. Run with different images, plot your results. Find two or three images from the web or your image collection. Can you find an image that causes the model to identify the foreground poorly? Include the image that you use. (4 points)\n",
    "3. Around what iteration does the sampler converge for the Einstein image with $ \\gamma = 20 $ and $ \\eta = 1 $ and how do you know it? Don't just say \"the image stopped changing very much\"! Hint: Check the energy of each state $S$.(6 points)"
   ]
  },
  {
   "cell_type": "code",
   "execution_count": null,
   "metadata": {},
   "outputs": [],
   "source": []
  }
 ],
 "metadata": {
  "anaconda-cloud": {},
  "kernelspec": {
   "display_name": "Python 3",
   "language": "python",
   "name": "python3"
  },
  "language_info": {
   "codemirror_mode": {
    "name": "ipython",
    "version": 3
   },
   "file_extension": ".py",
   "mimetype": "text/x-python",
   "name": "python",
   "nbconvert_exporter": "python",
   "pygments_lexer": "ipython3",
   "version": "3.8.8"
  }
 },
 "nbformat": 4,
 "nbformat_minor": 1
}
