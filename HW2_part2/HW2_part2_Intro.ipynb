{
 "cells": [
  {
   "cell_type": "markdown",
   "metadata": {},
   "source": [
    "Reference: \n",
    "**S. M. Konishi, A.L. Yuille, J.M. Coughlan and S.C. Zhu. Statistical Edge Detection: Learning and Evaluating Edge Cues. IEEE Transactions on Pattern Analysis and Machine Intelligence. TPAMI. Vol. 25, No. 1, pp 57-74. January 2003.**"
   ]
  },
  {
   "cell_type": "markdown",
   "metadata": {},
   "source": [
    "The homework questions are at the end, but run through the notebook step-by-step to make sure you have an idea what it's doing!"
   ]
  },
  {
   "cell_type": "markdown",
   "metadata": {},
   "source": [
    "# Initialization and define some utility functions"
   ]
  },
  {
   "cell_type": "code",
   "execution_count": null,
   "metadata": {},
   "outputs": [],
   "source": [
    "import numpy as np\n",
    "import matplotlib.pyplot as plt\n",
    "%matplotlib inline\n",
    "\n",
    "def myimshow(im):\n",
    "    plt.figure()\n",
    "    plt.axis('off')\n",
    "    plt.imshow(im, cmap=plt.gray())"
   ]
  },
  {
   "cell_type": "markdown",
   "metadata": {},
   "source": [
    "# Read image and edge map"
   ]
  },
  {
   "cell_type": "code",
   "execution_count": null,
   "metadata": {},
   "outputs": [],
   "source": [
    "# Show image and edge labeling\n",
    "# id = '100075'\n",
    "id = '35010' # butterfly\n",
    "# id = '97017' # building\n",
    "#id = '41004' # deer\n",
    "# Change the id to try a different image\n",
    "\n",
    "def loadData(id):\n",
    "    from skimage.color import rgb2gray\n",
    "    edgeMap = plt.imread('data/edge/boundaryMap/' + id + '.bmp'); edgeMap = edgeMap[:,:,0]\n",
    "    im = plt.imread('data/edge/trainImgs/' + id + '.jpg')\n",
    "    grayIm = rgb2gray(im)\n",
    "    return [grayIm, edgeMap]\n",
    "\n",
    "[im, edgeMap] = loadData(id)\n",
    "myimshow(edgeMap); # title('Boundary')\n",
    "myimshow(im * (edgeMap==0)); # title('Image with boundary')"
   ]
  },
  {
   "cell_type": "markdown",
   "metadata": {},
   "source": [
    "# Define function to filter image \n",
    "$ \\frac{dI}{dx} $, $ \\frac{dG*I}{dx} $"
   ]
  },
  {
   "cell_type": "code",
   "execution_count": null,
   "metadata": {},
   "outputs": [],
   "source": [
    "def dIdx(im):\n",
    "    # Compute magnitude of gradient\n",
    "    # 'CentralDifference' : Central difference gradient dI/dx = (I(x+1)- I(x-1))/ 2\n",
    "    dx = (np.roll(im, 1, axis=1) - np.roll(im, -1, axis=1))/2\n",
    "    dy = (np.roll(im, 1, axis=0) - np.roll(im, -1, axis=0))/2\n",
    "    mag = np.sqrt(dx**2 + dy**2)\n",
    "    return mag\n",
    "\n",
    "def dgIdx(im, sigma=1):\n",
    "    from scipy.ndimage import gaussian_filter\n",
    "    gauss = gaussian_filter(im, sigma = sigma)\n",
    "    dgauss = dIdx(gauss)\n",
    "    return dgauss\n",
    "\n",
    "dx = dIdx(im)\n",
    "dgI = dgIdx(im)\n",
    "\n",
    "# Show filtered images\n",
    "myimshow(dx); # title(r'$ \\frac{dI}{dx} $')\n",
    "myimshow(dgI); # title(r'$ \\frac{d G*I}{dx} $')\n",
    "\n",
    "# def showEdge(im, edgeMap):\n",
    "#     # draw edge pixel\n",
    "#     im = im * (edgeMap != 0)\n",
    "#     figure(); myimshow(im); title('Highlight edge')"
   ]
  },
  {
   "cell_type": "code",
   "execution_count": null,
   "metadata": {},
   "outputs": [],
   "source": [
    "def kde(x):\n",
    "    # Kernel density estimation, to get P(dI/dx | on edge) and P(dI/dx | off edge) from data\n",
    "    from scipy.stats import gaussian_kde\n",
    "    f = gaussian_kde(x, bw_method=0.01 / x.std(ddof=1))\n",
    "    return f\n",
    "    \n",
    "def ponEdge(im, edgeMap):\n",
    "    # Compute on edge histogram\n",
    "    # im is filtered image\n",
    "    \n",
    "    # Convert edge map to pixel index\n",
    "    flattenEdgeMap = edgeMap.flatten()\n",
    "    edgeIdx = [i for i in range(len(flattenEdgeMap)) if flattenEdgeMap[i]]\n",
    "    \n",
    "    # find edge pixel in 3x3 region, shift the edge map a bit, in case of inaccurate boundary labeling\n",
    "    [offx, offy] = np.meshgrid(np.arange(-1,2), np.arange(-1,2)); offx = offx.flatten(); offy = offy.flatten()\n",
    "    maxVal = np.copy(im)\n",
    "    for i in range(9):\n",
    "        im1 = np.roll(im, offx[i], axis=1) # x axis\n",
    "        im1 = np.roll(im1, offy[i], axis=0) # y axis    \n",
    "        maxVal = np.maximum(maxVal, im1)\n",
    "\n",
    "    vals = maxVal.flatten()\n",
    "    onEdgeVals = vals[edgeIdx]\n",
    "    \n",
    "    bins = np.linspace(0,0.5, 100)\n",
    "    [n, bins] = np.histogram(onEdgeVals, bins=bins)\n",
    "    # n = n+1 # Avoid divide by zero\n",
    "\n",
    "    pon = kde(onEdgeVals)\n",
    "\n",
    "    return [n, bins, pon]\n",
    "\n",
    "\n",
    "def poffEdge(im, edgeMap):\n",
    "    flattenEdgeMap = edgeMap.flatten()\n",
    "    noneEdgeIdx = [i for i in range(len(flattenEdgeMap)) if not flattenEdgeMap[i]]\n",
    "    \n",
    "    vals = im.flatten()\n",
    "    offEdgeVals = vals[noneEdgeIdx] \n",
    "\n",
    "    bins = np.linspace(0,0.5, 100)\n",
    "    n, bins = np.histogram(offEdgeVals, bins=bins)\n",
    "\n",
    "    # n = n+1\n",
    "    # p = n / sum(n)\n",
    "    \n",
    "    poff = kde(offEdgeVals)\n",
    "    \n",
    "    return [n, bins, poff]\n",
    "\n",
    "dx = dIdx(im)\n",
    "[n1, bins, pon] = ponEdge(dx, edgeMap)\n",
    "[n2, bins, poff] = poffEdge(dx, edgeMap)\n",
    "\n",
    "plt.figure(); # Plot on edge\n",
    "# title('(Normalized) Histogram of on/off edge pixels')\n",
    "plt.plot((bins[:-1] + bins[1:])/2, n1.astype(float)/sum(n1), '-', lw=2, label=\"p(f|y=1)\")\n",
    "plt.plot((bins[:-1] + bins[1:])/2, n2.astype(float)/sum(n2), '--', lw=2, label=\"p(f|y=-1)\")\n",
    "plt.legend()\n",
    "\n",
    "plt.figure()\n",
    "# title('Density function of on/off edge pixels')\n",
    "plt.plot(bins, pon(bins), '-', alpha=0.5, lw=3, label=\"p(f|y=1)\")\n",
    "plt.plot(bins, poff(bins), '--', alpha=0.5, lw=3, label=\"p(f|y=-1)\")\n",
    "plt.legend()"
   ]
  },
  {
   "cell_type": "markdown",
   "metadata": {},
   "source": [
    "# Compute $ P(\\frac{dI}{dx} | \\text{on edge}) $ and $ P(\\frac{dI}{dx} | \\text{off edge}) $"
   ]
  },
  {
   "cell_type": "code",
   "execution_count": null,
   "metadata": {},
   "outputs": [],
   "source": [
    "%%time\n",
    "ponIm = pon(dx.flatten()).reshape(dx.shape) # evaluate pon on a vector and reshape the vector to the image size\n",
    "myimshow(ponIm)"
   ]
  },
  {
   "cell_type": "code",
   "execution_count": null,
   "metadata": {},
   "outputs": [],
   "source": [
    "%%time\n",
    "poffIm = poff(dx.flatten()).reshape(dx.shape) # Slow, evaluation of this cell may take several minutes\n",
    "myimshow(poffIm)"
   ]
  },
  {
   "cell_type": "code",
   "execution_count": null,
   "metadata": {},
   "outputs": [],
   "source": [
    "T = 1\n",
    "myimshow(np.log(ponIm/poffIm)>T) # "
   ]
  },
  {
   "cell_type": "markdown",
   "metadata": {},
   "source": [
    "# Show ROC curve (trade off between true and false positives)"
   ]
  },
  {
   "cell_type": "code",
   "execution_count": null,
   "metadata": {},
   "outputs": [],
   "source": [
    "gt = (edgeMap!=0) # Ground-truth labels\n",
    "print(np.sum(gt == True)) # Edge\n",
    "print(np.sum(gt == False)) # Non-edge"
   ]
  },
  {
   "cell_type": "code",
   "execution_count": null,
   "metadata": {},
   "outputs": [],
   "source": [
    "def ROCpoint(predict, gt):\n",
    "    # predict = (log(ponIm/poffIm)>=T)\n",
    "    truePos = (predict==True) & (gt == predict)\n",
    "    trueNeg = (predict==False) & (gt == predict)\n",
    "\n",
    "    falsePos = (predict==True) & (gt != predict)\n",
    "    falseNeg = (predict==False) & (gt != predict)\n",
    "\n",
    "    y = np.double(truePos.sum()) / np.sum(gt == True)\n",
    "    x = np.double(falsePos.sum()) / np.sum(gt == False)\n",
    "    return [x, y]\n",
    "\n",
    "p = []\n",
    "for T in np.arange(-5, 5, step=0.1):\n",
    "    predict = (np.log(ponIm/poffIm)>=T)\n",
    "    p.append(ROCpoint(predict, gt))\n",
    "x = [v[0] for v in p]\n",
    "y = [v[1] for v in p]\n",
    "plt.plot(x, y)\n",
    "plt.xlabel('False positive rate')\n",
    "plt.ylabel('True positive rate')"
   ]
  },
  {
   "cell_type": "markdown",
   "metadata": {},
   "source": [
    "## Interactive: Change threshold \n",
    "\n",
    "Below is an interactive demo to show the result for different threshold T. You can also observe the point on ROC curve.\n",
    "\n",
    "(Evaluate next cell to run the demo)\n",
    "\n",
    "<img width=\"600\" src='data/edge/snapshot.png'>"
   ]
  },
  {
   "cell_type": "code",
   "execution_count": null,
   "metadata": {},
   "outputs": [],
   "source": [
    "# interactive threshold demo, evaluate this cell\n",
    "# You can safely skip this cell if you see any error happens.\n",
    "from IPython.html.widgets import interact, interactive, fixed\n",
    "def demoThreshold(T):\n",
    "    predict = (np.log(ponIm/poffIm)>=T)\n",
    "    plt.figure(1)\n",
    "    plt.imshow(predict)\n",
    "    p = ROCpoint(predict, gt)\n",
    "    plt.figure(2)\n",
    "    plt.plot(x, y)\n",
    "    plt.plot(p[0], p[1], '*')\n",
    "    plt.xlabel('False positive rate')\n",
    "    plt.ylabel('True positive rate')\n",
    "\n",
    "# compute ROC curve\n",
    "p = []\n",
    "for T in np.arange(-5, 5, step=0.1):\n",
    "    predict = (np.log(ponIm/poffIm)>=T)\n",
    "    p.append(ROCpoint(predict, gt))\n",
    "x = [v[0] for v in p]\n",
    "y = [v[1] for v in p]\n",
    "    \n",
    "interact(demoThreshold, T=(-5, 5, 0.1))"
   ]
  },
  {
   "cell_type": "markdown",
   "metadata": {},
   "source": [
    "# HW2 Q5:\n",
    "1. Load another image (e.g. the butterfly or building), apply this edge detection algorithm, find a good threshold and display your result (6 points)\n",
    "2. Use $ \\frac{dG*I}{dx} $ instead of $\\frac{dI}{dx}$ for edge detection where $G$ is a Gaussian. Show results for a couple of different variances `sigma`. (8 points)"
   ]
  },
  {
   "cell_type": "code",
   "execution_count": null,
   "metadata": {},
   "outputs": [],
   "source": []
  }
 ],
 "metadata": {
  "anaconda-cloud": {},
  "kernelspec": {
   "display_name": "Python 3",
   "language": "python",
   "name": "python3"
  },
  "language_info": {
   "codemirror_mode": {
    "name": "ipython",
    "version": 3
   },
   "file_extension": ".py",
   "mimetype": "text/x-python",
   "name": "python",
   "nbconvert_exporter": "python",
   "pygments_lexer": "ipython3",
   "version": "3.8.8"
  }
 },
 "nbformat": 4,
 "nbformat_minor": 1
}
